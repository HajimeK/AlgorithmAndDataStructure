{
 "cells": [
  {
   "cell_type": "code",
   "execution_count": 33,
   "metadata": {},
   "outputs": [],
   "source": [
    "def isLeapYear(year) :\n",
    "    #(1) A leap year is a year in which the Christian era is divisible by 4.\n",
    "    #(2) As an exception to (1), a year in which the Christian era is \n",
    "    # divisible by 100 and not divisible by 400 is a normal year.\n",
    "    return not((year % 4) != 0 or ((year % 100) == 0 and (year % 400) != 0))"
   ]
  },
  {
   "cell_type": "code",
   "execution_count": 32,
   "metadata": {},
   "outputs": [
    {
     "data": {
      "text/plain": [
       "365"
      ]
     },
     "execution_count": 32,
     "metadata": {},
     "output_type": "execute_result"
    }
   ],
   "source": [
    "a = [1,2,3]\n",
    "sum(daysOfMonth[:12])"
   ]
  },
  {
   "cell_type": "code",
   "execution_count": 35,
   "metadata": {},
   "outputs": [],
   "source": [
    "daysOfMonth = [31,28,31,30,31,30,31,31,30,31,30,31] # if not a leap year\n",
    "daysOfMonthLeap = [31,29,31,30,31,30,31,31,30,31,30,31] # if not a leap year\n",
    "\n",
    "def daysInTheYear(year, month, day):\n",
    "    dayCalcTable = daysOfMonthLeap if isLeapYear(year) else daysOfMonth\n",
    "    days = sum(dayCalcTable[:month-1])\n",
    "\n",
    "    return days + day\n"
   ]
  },
  {
   "cell_type": "code",
   "execution_count": 36,
   "metadata": {},
   "outputs": [
    {
     "name": "stdout",
     "output_type": "stream",
     "text": [
      "Congratulations! Your daysBetweenDates\n",
      "function is working correctly!\n"
     ]
    }
   ],
   "source": [
    "def daysBetweenDates(year1, month1, day1, year2, month2, day2):\n",
    "    \"\"\"\n",
    "    Calculates the number of days between two dates.\n",
    "    \"\"\"\n",
    "    days = 0\n",
    "    for i in range(year1, year2):\n",
    "        days += daysInTheYear(i,12,31)\n",
    "\n",
    "    return days + daysInTheYear(year2, month2, day2) - daysInTheYear(year1, month1, day1)\n",
    "\n",
    "def testDaysBetweenDates():\n",
    "    \n",
    "    # test same day\n",
    "    assert(daysBetweenDates(2017, 12, 30,\n",
    "                              2017, 12, 30) == 0)\n",
    "    # test adjacent days\n",
    "    assert(daysBetweenDates(2017, 12, 30, \n",
    "                              2017, 12, 31) == 1)\n",
    "    # test new year\n",
    "    assert(daysBetweenDates(2017, 12, 30, \n",
    "                              2018, 1,  1)  == 2)\n",
    "    # test full year difference\n",
    "    assert(daysBetweenDates(2012, 6, 29,\n",
    "                              2013, 6, 29)  == 365)\n",
    "    \n",
    "    print(\"Congratulations! Your daysBetweenDates\")\n",
    "    print(\"function is working correctly!\")\n",
    "    \n",
    "testDaysBetweenDates()"
   ]
  },
  {
   "cell_type": "code",
   "execution_count": 39,
   "metadata": {},
   "outputs": [
    {
     "data": {
      "text/plain": [
       "17881"
      ]
     },
     "execution_count": 39,
     "metadata": {},
     "output_type": "execute_result"
    }
   ],
   "source": [
    "daysBetweenDates(1972,11,5,2021,10,20)"
   ]
  }
 ],
 "metadata": {
  "interpreter": {
   "hash": "a106d18cf836b71d914397a000948e7420c1fa7f963816d3b4889ee6d519ee78"
  },
  "kernelspec": {
   "display_name": "Python 3.8.3 64-bit ('base': conda)",
   "name": "python3"
  },
  "language_info": {
   "codemirror_mode": {
    "name": "ipython",
    "version": 3
   },
   "file_extension": ".py",
   "mimetype": "text/x-python",
   "name": "python",
   "nbconvert_exporter": "python",
   "pygments_lexer": "ipython3",
   "version": "3.8.3"
  },
  "orig_nbformat": 4
 },
 "nbformat": 4,
 "nbformat_minor": 2
}
